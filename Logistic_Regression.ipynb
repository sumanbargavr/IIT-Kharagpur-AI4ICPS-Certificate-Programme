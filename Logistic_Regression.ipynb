{
  "nbformat": 4,
  "nbformat_minor": 0,
  "metadata": {
    "colab": {
      "provenance": []
    },
    "kernelspec": {
      "name": "python3",
      "display_name": "Python 3"
    },
    "language_info": {
      "name": "python"
    }
  },
  "cells": [
    {
      "cell_type": "markdown",
      "source": [
        "Let's start by importing the required module."
      ],
      "metadata": {
        "id": "KPwopBeCWpsU"
      }
    },
    {
      "cell_type": "code",
      "execution_count": 2,
      "metadata": {
        "id": "9xWT1N06NrQb"
      },
      "outputs": [],
      "source": [
        "import numpy"
      ]
    },
    {
      "cell_type": "markdown",
      "source": [
        "Now, store the independent variables in X and the dependent variable in y."
      ],
      "metadata": {
        "id": "jX6xUDw_XNeB"
      }
    },
    {
      "cell_type": "code",
      "source": [
        "#X represents the size of a tumor in centimeters.\n",
        "X = numpy.array([3.78, 2.44, 2.09, 0.14, 1.72, 1.65, 4.92, 4.37, 4.96, 4.52, 3.69, 5.88]).reshape(-1,1)\n",
        "\n",
        "#Note: X has to be reshaped into a column from a row for the LogisticRegression() function to work.\n",
        "#y represents whether or not the tumor is cancerous (0 for \"No\", 1 for \"Yes\").\n",
        "y = numpy.array([0, 0, 0, 0, 0, 0, 1, 1, 1, 1, 1, 1])"
      ],
      "metadata": {
        "id": "vfZ-Ei8PN-1v"
      },
      "execution_count": 3,
      "outputs": []
    },
    {
      "cell_type": "markdown",
      "source": [
        "As we shall use a method from the sklearn module,  we import that module as well."
      ],
      "metadata": {
        "id": "dbHZx-2DXWp8"
      }
    },
    {
      "cell_type": "code",
      "source": [
        "from sklearn import linear_model"
      ],
      "metadata": {
        "id": "aFakkX5UOiGa"
      },
      "execution_count": 4,
      "outputs": []
    },
    {
      "cell_type": "markdown",
      "source": [
        " We have used the LogisticRegression() method for creating the logistic regression object from the sklearn module.\n",
        "\n",
        "This object comprises a method called fit() that takes the independent and dependent values as parameters by filling the regression object with data that describes the relationship."
      ],
      "metadata": {
        "id": "RseRMYGgVDV7"
      }
    },
    {
      "cell_type": "code",
      "source": [
        "logr = linear_model.LogisticRegression()\n",
        "logr.fit(X,y)"
      ],
      "metadata": {
        "colab": {
          "base_uri": "https://localhost:8080/",
          "height": 75
        },
        "id": "1sZbu_Y3OYfp",
        "outputId": "25f6915f-953c-4876-dcef-207536e83e2e"
      },
      "execution_count": 5,
      "outputs": [
        {
          "output_type": "execute_result",
          "data": {
            "text/plain": [
              "LogisticRegression()"
            ],
            "text/html": [
              "<style>#sk-container-id-1 {color: black;}#sk-container-id-1 pre{padding: 0;}#sk-container-id-1 div.sk-toggleable {background-color: white;}#sk-container-id-1 label.sk-toggleable__label {cursor: pointer;display: block;width: 100%;margin-bottom: 0;padding: 0.3em;box-sizing: border-box;text-align: center;}#sk-container-id-1 label.sk-toggleable__label-arrow:before {content: \"▸\";float: left;margin-right: 0.25em;color: #696969;}#sk-container-id-1 label.sk-toggleable__label-arrow:hover:before {color: black;}#sk-container-id-1 div.sk-estimator:hover label.sk-toggleable__label-arrow:before {color: black;}#sk-container-id-1 div.sk-toggleable__content {max-height: 0;max-width: 0;overflow: hidden;text-align: left;background-color: #f0f8ff;}#sk-container-id-1 div.sk-toggleable__content pre {margin: 0.2em;color: black;border-radius: 0.25em;background-color: #f0f8ff;}#sk-container-id-1 input.sk-toggleable__control:checked~div.sk-toggleable__content {max-height: 200px;max-width: 100%;overflow: auto;}#sk-container-id-1 input.sk-toggleable__control:checked~label.sk-toggleable__label-arrow:before {content: \"▾\";}#sk-container-id-1 div.sk-estimator input.sk-toggleable__control:checked~label.sk-toggleable__label {background-color: #d4ebff;}#sk-container-id-1 div.sk-label input.sk-toggleable__control:checked~label.sk-toggleable__label {background-color: #d4ebff;}#sk-container-id-1 input.sk-hidden--visually {border: 0;clip: rect(1px 1px 1px 1px);clip: rect(1px, 1px, 1px, 1px);height: 1px;margin: -1px;overflow: hidden;padding: 0;position: absolute;width: 1px;}#sk-container-id-1 div.sk-estimator {font-family: monospace;background-color: #f0f8ff;border: 1px dotted black;border-radius: 0.25em;box-sizing: border-box;margin-bottom: 0.5em;}#sk-container-id-1 div.sk-estimator:hover {background-color: #d4ebff;}#sk-container-id-1 div.sk-parallel-item::after {content: \"\";width: 100%;border-bottom: 1px solid gray;flex-grow: 1;}#sk-container-id-1 div.sk-label:hover label.sk-toggleable__label {background-color: #d4ebff;}#sk-container-id-1 div.sk-serial::before {content: \"\";position: absolute;border-left: 1px solid gray;box-sizing: border-box;top: 0;bottom: 0;left: 50%;z-index: 0;}#sk-container-id-1 div.sk-serial {display: flex;flex-direction: column;align-items: center;background-color: white;padding-right: 0.2em;padding-left: 0.2em;position: relative;}#sk-container-id-1 div.sk-item {position: relative;z-index: 1;}#sk-container-id-1 div.sk-parallel {display: flex;align-items: stretch;justify-content: center;background-color: white;position: relative;}#sk-container-id-1 div.sk-item::before, #sk-container-id-1 div.sk-parallel-item::before {content: \"\";position: absolute;border-left: 1px solid gray;box-sizing: border-box;top: 0;bottom: 0;left: 50%;z-index: -1;}#sk-container-id-1 div.sk-parallel-item {display: flex;flex-direction: column;z-index: 1;position: relative;background-color: white;}#sk-container-id-1 div.sk-parallel-item:first-child::after {align-self: flex-end;width: 50%;}#sk-container-id-1 div.sk-parallel-item:last-child::after {align-self: flex-start;width: 50%;}#sk-container-id-1 div.sk-parallel-item:only-child::after {width: 0;}#sk-container-id-1 div.sk-dashed-wrapped {border: 1px dashed gray;margin: 0 0.4em 0.5em 0.4em;box-sizing: border-box;padding-bottom: 0.4em;background-color: white;}#sk-container-id-1 div.sk-label label {font-family: monospace;font-weight: bold;display: inline-block;line-height: 1.2em;}#sk-container-id-1 div.sk-label-container {text-align: center;}#sk-container-id-1 div.sk-container {/* jupyter's `normalize.less` sets `[hidden] { display: none; }` but bootstrap.min.css set `[hidden] { display: none !important; }` so we also need the `!important` here to be able to override the default hidden behavior on the sphinx rendered scikit-learn.org. See: https://github.com/scikit-learn/scikit-learn/issues/21755 */display: inline-block !important;position: relative;}#sk-container-id-1 div.sk-text-repr-fallback {display: none;}</style><div id=\"sk-container-id-1\" class=\"sk-top-container\"><div class=\"sk-text-repr-fallback\"><pre>LogisticRegression()</pre><b>In a Jupyter environment, please rerun this cell to show the HTML representation or trust the notebook. <br />On GitHub, the HTML representation is unable to render, please try loading this page with nbviewer.org.</b></div><div class=\"sk-container\" hidden><div class=\"sk-item\"><div class=\"sk-estimator sk-toggleable\"><input class=\"sk-toggleable__control sk-hidden--visually\" id=\"sk-estimator-id-1\" type=\"checkbox\" checked><label for=\"sk-estimator-id-1\" class=\"sk-toggleable__label sk-toggleable__label-arrow\">LogisticRegression</label><div class=\"sk-toggleable__content\"><pre>LogisticRegression()</pre></div></div></div></div></div>"
            ]
          },
          "metadata": {},
          "execution_count": 5
        }
      ]
    },
    {
      "cell_type": "markdown",
      "source": [
        "Here we have a logistic regression object that is ready for checking whether a tumor is cancerous based on the tumor size."
      ],
      "metadata": {
        "id": "zpXD7hQdWXpF"
      }
    },
    {
      "cell_type": "code",
      "source": [
        "#predict if tumor is cancerous where the size is 3.46cm:\n",
        "predicted = logr.predict(numpy.array([3.46]).reshape(-1,1))\n",
        "print(predicted)"
      ],
      "metadata": {
        "colab": {
          "base_uri": "https://localhost:8080/"
        },
        "id": "ZtwbZtCMOzkx",
        "outputId": "e01f467b-eeee-4b46-f02d-8c98e56d34b2"
      },
      "execution_count": 6,
      "outputs": [
        {
          "output_type": "stream",
          "name": "stdout",
          "text": [
            "[0]\n"
          ]
        }
      ]
    },
    {
      "cell_type": "markdown",
      "source": [
        "We predicted that a tumor with a size of 3.46cm is not cancerous."
      ],
      "metadata": {
        "id": "GsbRGN6APn1B"
      }
    },
    {
      "cell_type": "markdown",
      "source": [
        "In logistic regression, the coefficient is the expected change in log odds of having the outcome per unit change in X."
      ],
      "metadata": {
        "id": "zuFTP-RrX-MM"
      }
    },
    {
      "cell_type": "code",
      "source": [
        "log_odds = logr.coef_\n",
        "odds = numpy.exp(log_odds)\n",
        "\n",
        "print(odds)"
      ],
      "metadata": {
        "colab": {
          "base_uri": "https://localhost:8080/"
        },
        "id": "XbL_s4KXX5jW",
        "outputId": "dd207df3-c0a2-494b-cd5f-236da3a75341"
      },
      "execution_count": 7,
      "outputs": [
        {
          "output_type": "stream",
          "name": "stdout",
          "text": [
            "[[4.03541657]]\n"
          ]
        }
      ]
    },
    {
      "cell_type": "markdown",
      "source": [
        "It implies that the size of a tumor increases by 1cm the odds of it being a tumor increases by 4x."
      ],
      "metadata": {
        "id": "Fczs7Sh5Yckh"
      }
    },
    {
      "cell_type": "markdown",
      "source": [
        "The coefficient and intercept values are used for finding the probability that each tumor is cancerous.\n",
        "\n",
        "Let's create a function that uses the model's coefficient and intercept values for returning a new value. This new value represents probability that the given observation is a tumor:"
      ],
      "metadata": {
        "id": "uuDsp4cvcdOS"
      }
    },
    {
      "cell_type": "code",
      "source": [
        "def logit2prob(logr,x):\n",
        "  log_odds = logr.coef_ * x + logr.intercept_    #formula analogous to linear regression for extracting the coefficient and the intercept.\n",
        "  odds = numpy.exp(log_odds)                     #To convert the log-odds to odds we must exponentiate the log-odds.\n",
        "  probability = odds / (1 + odds)                #Converting the odds to probability by dividing it by 1 plus the odds.\n",
        "  return(probability)\n",
        "\n",
        "print(logit2prob(logr, X))"
      ],
      "metadata": {
        "colab": {
          "base_uri": "https://localhost:8080/"
        },
        "id": "30dP27o2bmA-",
        "outputId": "89245b26-f0a3-4a48-b0e4-bbd9f8373da5"
      },
      "execution_count": 8,
      "outputs": [
        {
          "output_type": "stream",
          "name": "stdout",
          "text": [
            "[[0.60749955]\n",
            " [0.19268876]\n",
            " [0.12775886]\n",
            " [0.00955221]\n",
            " [0.08038616]\n",
            " [0.07345637]\n",
            " [0.88362743]\n",
            " [0.77901378]\n",
            " [0.88924409]\n",
            " [0.81293497]\n",
            " [0.57719129]\n",
            " [0.96664243]]\n"
          ]
        }
      ]
    },
    {
      "cell_type": "markdown",
      "source": [
        "The output can be interpreted in the following way:\n",
        "\n",
        "1. The probability that a tumor with the size 3.78cm is cancerous is 60.75% (approx).\n",
        "2. The probability that a tumor with the size 2.44cm is cancerous is 19.269% (approx).\n",
        "3. The probability that a tumor with the size 2.09cm is cancerous is 12.775% (approx).\n",
        "\n",
        "and so on."
      ],
      "metadata": {
        "id": "otyboCuedn8Z"
      }
    }
  ]
}